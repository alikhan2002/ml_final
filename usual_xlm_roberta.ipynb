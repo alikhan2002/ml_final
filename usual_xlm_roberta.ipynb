{
 "cells": [
  {
   "cell_type": "code",
   "execution_count": 11,
   "id": "4325aaa8-ce83-4170-82b9-77954a578cc8",
   "metadata": {},
   "outputs": [],
   "source": [
    "from transformers import AutoTokenizer, AutoModelForTokenClassification\n",
    "from transformers import pipeline\n",
    "\n",
    "tokenizer = AutoTokenizer.from_pretrained(\"yeshpanovrustem/xlm-roberta-large-ner-kazakh\")\n",
    "model = AutoModelForTokenClassification.from_pretrained(\"yeshpanovrustem/xlm-roberta-large-ner-kazakh\")"
   ]
  },
  {
   "cell_type": "code",
   "execution_count": 12,
   "id": "346abfcd-07bf-480b-a380-b62dcb97903a",
   "metadata": {},
   "outputs": [],
   "source": [
    "import pandas as pd\n",
    "from transformers import pipeline\n",
    "from tqdm import tqdm\n",
    "df = pd.read_csv('ner_dataset (2).csv')"
   ]
  },
  {
   "cell_type": "code",
   "execution_count": 16,
   "id": "d5b171bf-f07e-4d0a-bd35-960bf37b1a2b",
   "metadata": {},
   "outputs": [
    {
     "name": "stderr",
     "output_type": "stream",
     "text": [
      "Device set to use cpu\n",
      "going for ner: 100%|██████████| 8013/8013 [1:18:52<00:00,  1.69it/s]"
     ]
    },
    {
     "name": "stdout",
     "output_type": "stream",
     "text": [
      "CPU times: user 16h 31min 10s, sys: 1h 53min 22s, total: 18h 24min 32s\n",
      "Wall time: 1h 18min 52s\n"
     ]
    },
    {
     "name": "stderr",
     "output_type": "stream",
     "text": [
      "\n"
     ]
    }
   ],
   "source": [
    "%%time\n",
    "nlp = pipeline(\"ner\", model = model, tokenizer = tokenizer, aggregation_strategy = \"none\")\n",
    "for ind, it in tqdm(df.iterrows(), desc='going for ner', total=len(df)):\n",
    "    example = it['content']\n",
    "    \n",
    "    ner_results = nlp(example)\n",
    "    \n",
    "    token = \"\"\n",
    "    label_list = []\n",
    "    token_list = []\n",
    "    for result in ner_results:\n",
    "        if result[\"word\"].startswith(\"▁\"):\n",
    "            if token:\n",
    "                token_list.append(token.replace(\"▁\", \"\"))\n",
    "            token = result[\"word\"]\n",
    "            label_list.append(result[\"entity\"])\n",
    "        else:\n",
    "            token += result[\"word\"]\n",
    "    \n",
    "    token_list.append(token.replace(\"▁\", \"\"))\n",
    "    \n"
   ]
  },
  {
   "cell_type": "code",
   "execution_count": null,
   "id": "0ef7f027-599b-4d11-8fab-4844d6746f4a",
   "metadata": {},
   "outputs": [],
   "source": []
  }
 ],
 "metadata": {
  "kernelspec": {
   "display_name": "Test_project",
   "language": "python",
   "name": "home-jovyan-work-_shared-conda_envs-test_project"
  },
  "language_info": {
   "codemirror_mode": {
    "name": "ipython",
    "version": 3
   },
   "file_extension": ".py",
   "mimetype": "text/x-python",
   "name": "python",
   "nbconvert_exporter": "python",
   "pygments_lexer": "ipython3",
   "version": "3.12.3"
  }
 },
 "nbformat": 4,
 "nbformat_minor": 5
}
