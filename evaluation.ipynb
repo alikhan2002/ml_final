{
 "cells": [
  {
   "cell_type": "code",
   "execution_count": 2,
   "id": "437bcc86-e508-4ce6-9d26-a9ab3ea4e7eb",
   "metadata": {},
   "outputs": [
    {
     "name": "stderr",
     "output_type": "stream",
     "text": [
      "/home/jovyan/.conda/envs/mner/lib/python3.8/site-packages/tqdm/auto.py:21: TqdmWarning: IProgress not found. Please update jupyter and ipywidgets. See https://ipywidgets.readthedocs.io/en/stable/user_install.html\n",
      "  from .autonotebook import tqdm as notebook_tqdm\n"
     ]
    }
   ],
   "source": [
    "from transformers import DistilBertTokenizer, DistilBertForSequenceClassification, AutoTokenizer, AutoModel\n",
    "from transformers import AutoModelForTokenClassification\n",
    "\n",
    "from onnxruntime.quantization import quantize_dynamic, QuantType\n",
    "import torch.nn.functional as F\n",
    "from pathlib import Path\n",
    "import onnxruntime\n",
    "import numpy as np\n",
    "import torch\n",
    "import onnx\n",
    "import time\n",
    "import os\n",
    "import shutil"
   ]
  },
  {
   "cell_type": "code",
   "execution_count": 3,
   "id": "49aa79d3-c0a7-4759-9202-18b882bb01de",
   "metadata": {},
   "outputs": [],
   "source": [
    "model_type = 'main_ner' \n",
    "model_quant = 'optimized_main_ner/' + 'model.onnx'"
   ]
  },
  {
   "cell_type": "code",
   "execution_count": 7,
   "id": "64494d76-3771-44c5-9958-96313dd6fe69",
   "metadata": {},
   "outputs": [],
   "source": [
    "tokenizer = AutoTokenizer.from_pretrained(model_type) "
   ]
  },
  {
   "cell_type": "code",
   "execution_count": 15,
   "id": "b0bd6a52-7cd7-4d24-aae5-0dadb00571b5",
   "metadata": {},
   "outputs": [
    {
     "data": {
      "text/plain": [
       "('tokenizer_onnx/tokenizer_config.json',\n",
       " 'tokenizer_onnx/special_tokens_map.json',\n",
       " 'tokenizer_onnx/sentencepiece.bpe.model',\n",
       " 'tokenizer_onnx/added_tokens.json',\n",
       " 'tokenizer_onnx/tokenizer.json')"
      ]
     },
     "execution_count": 15,
     "metadata": {},
     "output_type": "execute_result"
    }
   ],
   "source": [
    "tokenizer.save_pretrained('tokenizer_onnx')"
   ]
  },
  {
   "cell_type": "code",
   "execution_count": 16,
   "id": "ee0cad72-096e-40a9-9ebb-af8e4c546999",
   "metadata": {},
   "outputs": [],
   "source": [
    "from transformers import pipeline\n",
    "import json\n",
    "from tqdm import tqdm\n",
    "import pandas as pd\n",
    "config = json.load(open(\"main_ner_wlang/config.json\"))\n",
    "with open('config.json', 'w') as f:\n",
    "    json.dump(config, f, ensure_ascii=False)\n",
    "id2label = config['id2label']"
   ]
  },
  {
   "cell_type": "code",
   "execution_count": 38,
   "id": "9d0983e2-a8bf-41bc-bcae-065d602f3230",
   "metadata": {
    "scrolled": true
   },
   "outputs": [],
   "source": [
    "import numpy as np\n",
    "import torch\n",
    "import torch.nn.functional as F\n",
    "\n",
    "def run_ner_inference(input_text):\n",
    "    encoded_input = tokenizer(input_text, padding=True, truncation=True, return_tensors=\"pt\", add_special_tokens=True)\n",
    "    input_ids = encoded_input['input_ids'].numpy()\n",
    "    attention_mask = encoded_input['attention_mask'].numpy()\n",
    "\n",
    "    ort_inputs = {\n",
    "        \"input_ids\": input_ids,\n",
    "        \"attention_mask\": attention_mask\n",
    "    }\n",
    "\n",
    "    ort_outs = ort_session.run(['logits'], ort_inputs)\n",
    "    logits = ort_outs[0]\n",
    "\n",
    "    probabilities = F.softmax(torch.from_numpy(logits), dim=-1).numpy()\n",
    "\n",
    "    return probabilities, input_ids\n",
    "\n",
    "ort_session = onnxruntime.InferenceSession(model_quant, providers=[\"CPUExecutionProvider\"])\n",
    "input_text = \"100 тг\" \n",
    "probabilities, input_ids = run_ner_inference(input_text)\n",
    "\n",
    "predicted_classes = np.argmax(probabilities, axis=-1)\n",
    "\n",
    "id2label = config['id2label']\n",
    "\n",
    "predicted_labels = [id2label[str(class_id)] for class_id in predicted_classes[0]]\n",
    "\n",
    "tokens = tokenizer.convert_ids_to_tokens(input_ids[0])\n"
   ]
  },
  {
   "cell_type": "code",
   "execution_count": 39,
   "id": "788b20fe-d324-453f-911e-4f30d678de2e",
   "metadata": {},
   "outputs": [
    {
     "name": "stdout",
     "output_type": "stream",
     "text": [
      "token: 100 \t label: B-MONEY\n",
      "token: тг \t label: I-MONEY\n"
     ]
    }
   ],
   "source": [
    "def clean_and_combine_tokens(tokens, labels):\n",
    "    cleaned_tokens = []\n",
    "    cleaned_labels = []\n",
    "    current_word = \"\"\n",
    "    current_label = None\n",
    "\n",
    "    for token, label in zip(tokens, labels):\n",
    "        if token in [\"<s>\", \"</s>\", \"<unk>\"]:  \n",
    "            continue\n",
    "        \n",
    "        if token.startswith(\"▁\"):  \n",
    "            if current_word:  \n",
    "                cleaned_tokens.append(current_word)\n",
    "                cleaned_labels.append(current_label)\n",
    "            current_word = token[1:]  \n",
    "            current_label = label\n",
    "        else:  \n",
    "            current_word += token\n",
    "\n",
    "        if current_label == \"O\":\n",
    "            current_label = label\n",
    "\n",
    "    if current_word:\n",
    "        cleaned_tokens.append(current_word)\n",
    "        cleaned_labels.append(current_label)\n",
    "\n",
    "    return cleaned_tokens, cleaned_labels\n",
    "clean_tokens, clean_labels = clean_and_combine_tokens(tokens, predicted_labels)\n",
    "for token, label in zip(clean_tokens, clean_labels):\n",
    "    print(f\"token: {token} \\t label: {label}\")"
   ]
  },
  {
   "cell_type": "code",
   "execution_count": 34,
   "id": "65dc7a3a-5f25-4380-ac5e-8e782fc8c851",
   "metadata": {},
   "outputs": [],
   "source": [
    "import evaluate\n",
    "import numpy as np\n",
    "import torch\n",
    "import torch.nn.functional as F\n",
    "from datasets import load_dataset\n",
    "\n",
    "\n",
    "datasets = load_dataset(\"kaznerd.py\")\n",
    "label_list = datasets[\"train\"].features[\"ner_tags\"].feature.names\n",
    "\n",
    "\n",
    "example_text = datasets['train'][0]\n",
    "tokenized_input = tokenizer(example_text[\"tokens\"], is_split_into_words=True)\n",
    "tokens = tokenizer.convert_ids_to_tokens(tokenized_input[\"input_ids\"])\n",
    "word_ids = tokenized_input.word_ids()\n",
    "tokens = tokenizer.convert_ids_to_tokens(tokenized_input[\"input_ids\"])\n",
    "\n",
    "# Assuming these are loaded from your previous code\n",
    "# datasets = load_dataset(\"kaznerd.py\") \n",
    "# label_list = datasets[\"train\"].features[\"ner_tags\"].feature.names\n",
    "# id2label = {...} # from your config\n",
    "# tokenizer is loaded as shown in your code\n",
    "# ort_session is the ONNX runtime session\n",
    "\n",
    "metric = evaluate.load(\"seqeval\")\n",
    "\n",
    "def run_ner_inference(input_text, ort_session, tokenizer):\n",
    "    encoded_input = tokenizer(input_text, padding=True, truncation=True, return_tensors=\"pt\", add_special_tokens=True)\n",
    "    input_ids = encoded_input['input_ids'].numpy()\n",
    "    attention_mask = encoded_input['attention_mask'].numpy()\n",
    "\n",
    "    ort_inputs = {\n",
    "        \"input_ids\": input_ids,\n",
    "        \"attention_mask\": attention_mask\n",
    "    }\n",
    "\n",
    "    ort_outs = ort_session.run(['logits'], ort_inputs)\n",
    "    logits = ort_outs[0]\n",
    "\n",
    "    probabilities = F.softmax(torch.from_numpy(logits), dim=-1).numpy()\n",
    "    return probabilities, input_ids\n",
    "\n",
    "def clean_and_combine_tokens(tokens, labels):\n",
    "    cleaned_tokens = []\n",
    "    cleaned_labels = []\n",
    "    current_word = \"\"\n",
    "    current_label = None\n",
    "\n",
    "    for token, label in zip(tokens, labels):\n",
    "        if token in [\"<s>\", \"</s>\", \"<unk>\"]:\n",
    "            continue\n",
    "        \n",
    "        if token.startswith(\"▁\"):  # SentencePiece subword boundary\n",
    "            if current_word:\n",
    "                cleaned_tokens.append(current_word)\n",
    "                cleaned_labels.append(current_label)\n",
    "            current_word = token[1:]  # remove the underscore\n",
    "            current_label = label\n",
    "        else:\n",
    "            current_word += token\n",
    "\n",
    "        # If the label is \"O\", just carry forward the last known non-O label or O\n",
    "        if current_label == \"O\":\n",
    "            current_label = label\n",
    "\n",
    "    if current_word:\n",
    "        cleaned_tokens.append(current_word)\n",
    "        cleaned_labels.append(current_label)\n",
    "\n",
    "    return cleaned_tokens, cleaned_labels\n",
    "\n",
    "# We will evaluate on the \"test\" split of the dataset\n",
    "test_dataset = datasets[\"test\"]"
   ]
  },
  {
   "cell_type": "code",
   "execution_count": 23,
   "id": "eb92c805-4dba-48e9-86bf-d1b759bec050",
   "metadata": {},
   "outputs": [],
   "source": [
    "from tqdm import tqdm"
   ]
  },
  {
   "cell_type": "code",
   "execution_count": 35,
   "id": "3c0fc775-d169-47b7-bd97-be9a5f788aac",
   "metadata": {},
   "outputs": [
    {
     "name": "stderr",
     "output_type": "stream",
     "text": [
      "100%|██████████| 11307/11307 [04:09<00:00, 45.31it/s]\n"
     ]
    },
    {
     "name": "stdout",
     "output_type": "stream",
     "text": [
      "Evaluation on test dataset:\n",
      "overall_precision: 0.9600\n",
      "overall_recall: 0.9696\n",
      "overall_f1: 0.9648\n",
      "overall_accuracy: 0.9918\n"
     ]
    }
   ],
   "source": [
    "all_predictions = []\n",
    "all_references = []\n",
    "\n",
    "for example in tqdm(test_dataset,total=len(test_dataset)):\n",
    "    original_tokens = example[\"tokens\"]\n",
    "    original_label_ids = example[\"ner_tags\"]\n",
    "    true_labels = [label_list[i] for i in original_label_ids]\n",
    "\n",
    "    input_text = \" \".join(original_tokens)\n",
    "    \n",
    "    probabilities, input_ids = run_ner_inference(input_text, ort_session, tokenizer)\n",
    "    predicted_classes = np.argmax(probabilities, axis=-1)  # shape: (batch_size=1, seq_len)\n",
    "    predicted_labels = [id2label[str(class_id)] for class_id in predicted_classes[0]]\n",
    "\n",
    "    tokens = tokenizer.convert_ids_to_tokens(input_ids[0])\n",
    "\n",
    "    clean_tokens, clean_preds = clean_and_combine_tokens(tokens, predicted_labels)\n",
    "\n",
    "    if len(clean_preds) != len(original_tokens):\n",
    "        continue\n",
    "\n",
    "    all_predictions.append(clean_preds)\n",
    "    all_references.append(true_labels)\n",
    "\n",
    "# Compute seqeval metrics\n",
    "results = metric.compute(predictions=all_predictions, references=all_references)\n",
    "print(\"Evaluation on test dataset:\")\n",
    "for key, value in results.items():\n",
    "    if key.startswith(\"overall_\"):\n",
    "        print(f\"{key}: {value:.4f}\")"
   ]
  },
  {
   "cell_type": "code",
   "execution_count": null,
   "id": "187757d4-c8c1-45c3-809a-9908de82f87e",
   "metadata": {},
   "outputs": [],
   "source": []
  }
 ],
 "metadata": {
  "kernelspec": {
   "display_name": "mner",
   "language": "python",
   "name": "mner"
  },
  "language_info": {
   "codemirror_mode": {
    "name": "ipython",
    "version": 3
   },
   "file_extension": ".py",
   "mimetype": "text/x-python",
   "name": "python",
   "nbconvert_exporter": "python",
   "pygments_lexer": "ipython3",
   "version": "3.8.19"
  }
 },
 "nbformat": 4,
 "nbformat_minor": 5
}
